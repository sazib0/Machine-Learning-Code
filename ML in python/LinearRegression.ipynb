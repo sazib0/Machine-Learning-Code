{
  "cells": [
    {
      "cell_type": "code",
      "execution_count": 2,
      "metadata": {
        "id": "i3ne6vYJ4Itj"
      },
      "outputs": [],
      "source": [
        "import numpy as np\n",
        "import matplotlib.pyplot as plt\n",
        "import pandas as pd"
      ]
    },
    {
      "cell_type": "code",
      "execution_count": 3,
      "metadata": {
        "colab": {
          "base_uri": "https://localhost:8080/",
          "height": 350
        },
        "id": "Mb1KpHQd4asz",
        "outputId": "d5d748bf-a1b6-4588-e24a-0b028b591938"
      },
      "outputs": [],
      "source": [
        "data_set= pd.read_csv(\"final.csv\")"
      ]
    },
    {
      "cell_type": "code",
      "execution_count": 4,
      "metadata": {
        "id": "VNlT8AzD5M4t"
      },
      "outputs": [],
      "source": [
        "x=data_set[['area']]\n",
        "y=data_set['price']"
      ]
    },
    {
      "cell_type": "code",
      "execution_count": 5,
      "metadata": {
        "id": "GsbCz67y5hRe"
      },
      "outputs": [],
      "source": [
        "from sklearn.model_selection import train_test_split"
      ]
    },
    {
      "cell_type": "code",
      "execution_count": 6,
      "metadata": {
        "id": "VRpvpfmn5trA"
      },
      "outputs": [],
      "source": [
        "xtrain, xtest, ytrain, ytest = train_test_split(x,y,test_size=0.3,random_state=1)"
      ]
    },
    {
      "cell_type": "code",
      "execution_count": 7,
      "metadata": {
        "colab": {
          "base_uri": "https://localhost:8080/"
        },
        "id": "8jXBrci96Pcn",
        "outputId": "287c3159-8171-447d-c542-8305ac8cd497"
      },
      "outputs": [
        {
          "data": {
            "text/html": [
              "<style>#sk-container-id-1 {color: black;background-color: white;}#sk-container-id-1 pre{padding: 0;}#sk-container-id-1 div.sk-toggleable {background-color: white;}#sk-container-id-1 label.sk-toggleable__label {cursor: pointer;display: block;width: 100%;margin-bottom: 0;padding: 0.3em;box-sizing: border-box;text-align: center;}#sk-container-id-1 label.sk-toggleable__label-arrow:before {content: \"▸\";float: left;margin-right: 0.25em;color: #696969;}#sk-container-id-1 label.sk-toggleable__label-arrow:hover:before {color: black;}#sk-container-id-1 div.sk-estimator:hover label.sk-toggleable__label-arrow:before {color: black;}#sk-container-id-1 div.sk-toggleable__content {max-height: 0;max-width: 0;overflow: hidden;text-align: left;background-color: #f0f8ff;}#sk-container-id-1 div.sk-toggleable__content pre {margin: 0.2em;color: black;border-radius: 0.25em;background-color: #f0f8ff;}#sk-container-id-1 input.sk-toggleable__control:checked~div.sk-toggleable__content {max-height: 200px;max-width: 100%;overflow: auto;}#sk-container-id-1 input.sk-toggleable__control:checked~label.sk-toggleable__label-arrow:before {content: \"▾\";}#sk-container-id-1 div.sk-estimator input.sk-toggleable__control:checked~label.sk-toggleable__label {background-color: #d4ebff;}#sk-container-id-1 div.sk-label input.sk-toggleable__control:checked~label.sk-toggleable__label {background-color: #d4ebff;}#sk-container-id-1 input.sk-hidden--visually {border: 0;clip: rect(1px 1px 1px 1px);clip: rect(1px, 1px, 1px, 1px);height: 1px;margin: -1px;overflow: hidden;padding: 0;position: absolute;width: 1px;}#sk-container-id-1 div.sk-estimator {font-family: monospace;background-color: #f0f8ff;border: 1px dotted black;border-radius: 0.25em;box-sizing: border-box;margin-bottom: 0.5em;}#sk-container-id-1 div.sk-estimator:hover {background-color: #d4ebff;}#sk-container-id-1 div.sk-parallel-item::after {content: \"\";width: 100%;border-bottom: 1px solid gray;flex-grow: 1;}#sk-container-id-1 div.sk-label:hover label.sk-toggleable__label {background-color: #d4ebff;}#sk-container-id-1 div.sk-serial::before {content: \"\";position: absolute;border-left: 1px solid gray;box-sizing: border-box;top: 0;bottom: 0;left: 50%;z-index: 0;}#sk-container-id-1 div.sk-serial {display: flex;flex-direction: column;align-items: center;background-color: white;padding-right: 0.2em;padding-left: 0.2em;position: relative;}#sk-container-id-1 div.sk-item {position: relative;z-index: 1;}#sk-container-id-1 div.sk-parallel {display: flex;align-items: stretch;justify-content: center;background-color: white;position: relative;}#sk-container-id-1 div.sk-item::before, #sk-container-id-1 div.sk-parallel-item::before {content: \"\";position: absolute;border-left: 1px solid gray;box-sizing: border-box;top: 0;bottom: 0;left: 50%;z-index: -1;}#sk-container-id-1 div.sk-parallel-item {display: flex;flex-direction: column;z-index: 1;position: relative;background-color: white;}#sk-container-id-1 div.sk-parallel-item:first-child::after {align-self: flex-end;width: 50%;}#sk-container-id-1 div.sk-parallel-item:last-child::after {align-self: flex-start;width: 50%;}#sk-container-id-1 div.sk-parallel-item:only-child::after {width: 0;}#sk-container-id-1 div.sk-dashed-wrapped {border: 1px dashed gray;margin: 0 0.4em 0.5em 0.4em;box-sizing: border-box;padding-bottom: 0.4em;background-color: white;}#sk-container-id-1 div.sk-label label {font-family: monospace;font-weight: bold;display: inline-block;line-height: 1.2em;}#sk-container-id-1 div.sk-label-container {text-align: center;}#sk-container-id-1 div.sk-container {/* jupyter's `normalize.less` sets `[hidden] { display: none; }` but bootstrap.min.css set `[hidden] { display: none !important; }` so we also need the `!important` here to be able to override the default hidden behavior on the sphinx rendered scikit-learn.org. See: https://github.com/scikit-learn/scikit-learn/issues/21755 */display: inline-block !important;position: relative;}#sk-container-id-1 div.sk-text-repr-fallback {display: none;}</style><div id=\"sk-container-id-1\" class=\"sk-top-container\"><div class=\"sk-text-repr-fallback\"><pre>LinearRegression()</pre><b>In a Jupyter environment, please rerun this cell to show the HTML representation or trust the notebook. <br />On GitHub, the HTML representation is unable to render, please try loading this page with nbviewer.org.</b></div><div class=\"sk-container\" hidden><div class=\"sk-item\"><div class=\"sk-estimator sk-toggleable\"><input class=\"sk-toggleable__control sk-hidden--visually\" id=\"sk-estimator-id-1\" type=\"checkbox\" checked><label for=\"sk-estimator-id-1\" class=\"sk-toggleable__label sk-toggleable__label-arrow\">LinearRegression</label><div class=\"sk-toggleable__content\"><pre>LinearRegression()</pre></div></div></div></div></div>"
            ],
            "text/plain": [
              "LinearRegression()"
            ]
          },
          "execution_count": 7,
          "metadata": {},
          "output_type": "execute_result"
        }
      ],
      "source": [
        "from sklearn.linear_model import LinearRegression\n",
        "r= LinearRegression()\n",
        "r.fit(xtrain,ytrain)"
      ]
    },
    {
      "cell_type": "code",
      "execution_count": 8,
      "metadata": {
        "colab": {
          "base_uri": "https://localhost:8080/"
        },
        "id": "DpHiq-qg6sgj",
        "outputId": "e0bae757-748e-4d24-99d8-f09baf2e6e9b"
      },
      "outputs": [
        {
          "data": {
            "text/plain": [
              "array([11631.68764726, 12770.2785918 , 16270.04583934, 14450.16687062,\n",
              "       12826.27486776, 13946.20038697, 14636.82112382, 12378.30466007,\n",
              "       13890.20411101, 12975.59827032, 12256.97939549,  9625.15442533,\n",
              "       10259.77888622, 14188.85091613,  9839.80681652, 15691.41765441,\n",
              "       15654.08680377, 11622.3549346 , 10558.42569135, 11967.66530302,\n",
              "       12228.98125751, 14814.14266436, 10670.41824327, 11501.02967002,\n",
              "       13143.5870982 , 51827.6810744 , 11277.04456618, 15476.76526323,\n",
              "       15924.73547092, 14627.48841116, 16008.72988486, 14767.47910106,\n",
              "       12574.29162593, 10007.7956444 , 15663.41951643, 14758.1463884 ,\n",
              "       11930.33445238, 14002.19666293, 14963.46606692, 13460.89932864,\n",
              "       11025.06132435, 12686.28417785, 12462.29907401, 15803.41020633,\n",
              "       15887.40462028, 15896.73733294, 10110.45548366,  9550.49272405,\n",
              "       14366.17245668, 11557.02594598, 16232.7149887 , 12611.62247657,\n",
              "       13012.92912096, 10287.7770242 , 10269.11159888, 11491.69695736,\n",
              "       11958.33259036,  9662.48527597, 15066.12590618,  9737.14697726,\n",
              "       13638.22086919,  9699.81612662, 12471.63178667, 10315.77516218,\n",
              "       14160.85277815, 11771.67833716, 15355.43999865, 11697.01663588,\n",
              "       13750.21342111, 15980.73174688, 15010.12963022, 10763.74536987,\n",
              "       12219.64854485, 14198.18362879, 13050.2599716 , 13862.20597303,\n",
              "       10409.10228878,  9793.14325322, 11015.72861169, 15878.07190762,\n",
              "       12956.932845  , 11575.6913713 , 10026.46106972, 12583.62433859,\n",
              "       29429.17069011, 13376.9049147 , 10203.78261026, 10129.12090898,\n",
              "       10185.11718494, 15840.74105697, 12984.93098298, 10306.44244952,\n",
              "        9578.49086203, 10875.73792179, 15915.40275826,  9811.80867854,\n",
              "        9886.47037982, 14683.48468712, 15327.44186067, 15504.76340121,\n",
              "       14562.15942254, 11762.3456245 , 16120.72243678, 12947.60013234,\n",
              "       14571.4921352 ,  9951.79936844, 15411.43627461, 16064.72616082,\n",
              "       14720.81553776, 10782.41079519, 16298.04397732, 11305.04270416,\n",
              "       15439.43441259, 13544.89374259,  9531.82729873, 13190.2506615 ,\n",
              "       13078.25810958, 38761.88335023, 12882.27114372, 11743.68019918,\n",
              "       12742.28045381, 15756.74664303, 13180.91794884, 13778.21155909,\n",
              "       15831.40834431, 12368.97194741, 10278.44431154, 13712.88257047,\n",
              "       13554.22645525, 11155.71930159, 15196.78388343, 13134.25438554,\n",
              "       11314.37541682, 10922.40148509,  9606.48900001, 14356.83974402,\n",
              "       16326.0421153 , 11417.03525608, 14944.8006416 , 11613.02222194,\n",
              "       15588.75781515, 10679.75095593, 11976.99801568, 11818.34190046,\n",
              "        9634.48713799, 12163.65226889, 11566.35865864, 13656.88629451,\n",
              "       15215.44930875, 10623.75467997, 10390.43686346, 10474.43127741,\n",
              "       12406.30279805, 13582.22459323, 16074.05887348, 12275.64482081,\n",
              "       15812.74291899, 15738.08121771, 10773.07808253, 14702.15011244,\n",
              "       15150.12032013, 13162.25252352, 14431.5014453 , 15346.10728599,\n",
              "       12751.61316647, 12331.64109677, 16130.05514944, 12966.26555766,\n",
              "        9615.82171267,  9569.15814937, 14272.84533007,  9989.13021908,\n",
              "       14067.52565155, 11902.3363144 , 15336.77457333, 15682.08494175,\n",
              "       10829.07435849, 13218.24879948, 10054.4592077 , 15448.76712525,\n",
              "       16288.71126466, 13666.21900717, 14842.14080234, 12844.94029308,\n",
              "       14142.18735283, 14412.83601998, 14048.86022623, 12602.28976391,\n",
              "       12723.61502849, 16027.39531018, 10866.40520913, 14515.49585924,\n",
              "       11911.66902706, 12788.94401712, 10586.42382933, 16344.70754062,\n",
              "       15626.08866579, 11407.70254342, 10455.76585209, 15075.45861884,\n",
              "       12294.31024613, 13358.23948938, 13264.91236278, 10147.7863343 ,\n",
              "       10941.06691041, 10735.74723189,  9821.1413912 , 11454.36610672,\n",
              "       14832.80808968, 15318.10914801, 15990.06445954, 16158.05328742,\n",
              "       12518.29534997, 10838.40707115, 12919.60199436, 10222.44803558,\n",
              "       10381.1041508 , 10119.78819632,  9597.15628735, 15364.77271131,\n",
              "       13059.59268426, 10371.77143814, 12676.95146519, 15560.75967717])"
            ]
          },
          "execution_count": 8,
          "metadata": {},
          "output_type": "execute_result"
        }
      ],
      "source": [
        "r.predict(xtest)"
      ]
    },
    {
      "cell_type": "code",
      "execution_count": 9,
      "metadata": {},
      "outputs": [],
      "source": [
        "ypred= r.predict(xtest)"
      ]
    }
  ],
  "metadata": {
    "colab": {
      "name": "Untitled1.ipynb",
      "provenance": []
    },
    "kernelspec": {
      "display_name": "Python 3.9.12 ('base')",
      "language": "python",
      "name": "python3"
    },
    "language_info": {
      "codemirror_mode": {
        "name": "ipython",
        "version": 3
      },
      "file_extension": ".py",
      "mimetype": "text/x-python",
      "name": "python",
      "nbconvert_exporter": "python",
      "pygments_lexer": "ipython3",
      "version": "3.9.12"
    },
    "vscode": {
      "interpreter": {
        "hash": "e4a9476d694f04512152982e57826eaee6f5ed3667279d31fa8c9b113e4f112d"
      }
    }
  },
  "nbformat": 4,
  "nbformat_minor": 0
}
