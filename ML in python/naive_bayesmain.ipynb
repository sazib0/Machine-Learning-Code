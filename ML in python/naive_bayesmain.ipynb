{
 "cells": [
  {
   "cell_type": "code",
   "execution_count": 1,
   "id": "6d2c9e21-5c55-47d3-9807-90cae93d7eb8",
   "metadata": {},
   "outputs": [],
   "source": [
    "# importing library\n",
    "import pandas as pd\n",
    "import numpy as np\n",
    "import matplotlib.pyplot as plt\n",
    "import seaborn as sns\n",
    "from sklearn.metrics import confusion_matrix\n",
    "from sklearn.model_selection import train_test_split\n",
    "from sklearn.feature_extraction.text import CountVectorizer\n",
    "from sklearn.naive_bayes import MultinomialNB\n"
   ]
  },
  {
   "cell_type": "code",
   "execution_count": 2,
   "id": "00b43d06-335a-42dd-8cfe-780df10c2a76",
   "metadata": {},
   "outputs": [],
   "source": [
    "df=pd.read_csv('spam_ham_dataset.csv', encoding = 'latin-1')"
   ]
  },
  {
   "cell_type": "code",
   "execution_count": 3,
   "id": "6bca4657-4b62-4b72-a626-6f3df9f6544e",
   "metadata": {},
   "outputs": [],
   "source": [
    "df.columns = ['text', 'label_num']\n",
    "df = df[['text', 'label_num']]"
   ]
  },
  {
   "cell_type": "code",
   "execution_count": 4,
   "id": "fa3e8e85-c907-4041-bf1f-7e2ab58696bb",
   "metadata": {},
   "outputs": [
    {
     "data": {
      "image/png": "[encoded data removed]",
      "text/plain": [
       "<Figure size 432x288 with 1 Axes>"
      ]
     },
     "metadata": {
      "needs_background": "light"
     },
     "output_type": "display_data"
    }
   ],
   "source": [
    "df['label_num'].value_counts().plot.bar(color = [\"purple\",\"green\"])\n",
    "plt.title('Total number of 0 and 1 in the dataset')\n",
    "plt.show()"
   ]
  },
  {
   "cell_type": "code",
   "execution_count": 5,
   "id": "47e41da2-4a0f-4920-9881-56e8d6892974",
   "metadata": {},
   "outputs": [
    {
     "data": {
      "text/plain": [
       "0    3672\n",
       "1    1499\n",
       "Name: label_num, dtype: int64"
      ]
     },
     "execution_count": 5,
     "metadata": {},
     "output_type": "execute_result"
    }
   ],
   "source": [
    "df['label_num'].value_counts()"
   ]
  },
  {
   "cell_type": "code",
   "execution_count": 6,
   "id": "1aa78cdc-f5ef-4250-91cc-49c08846711b",
   "metadata": {},
   "outputs": [],
   "source": [
    "df.drop_duplicates(inplace=True)"
   ]
  },
  {
   "cell_type": "code",
   "execution_count": 7,
   "id": "eab50be9-d1c7-49ca-89a8-847e94972e50",
   "metadata": {},
   "outputs": [
    {
     "data": {
      "text/plain": [
       "0    3531\n",
       "1    1462\n",
       "Name: label_num, dtype: int64"
      ]
     },
     "execution_count": 7,
     "metadata": {},
     "output_type": "execute_result"
    }
   ],
   "source": [
    "df['label_num'].value_counts()"
   ]
  },
  {
   "cell_type": "code",
   "execution_count": 8,
   "id": "13ef13db-217b-4d31-967d-a5c44e3f1b11",
   "metadata": {},
   "outputs": [
    {
     "data": {
      "text/plain": [
       "text         0\n",
       "label_num    0\n",
       "dtype: int64"
      ]
     },
     "execution_count": 8,
     "metadata": {},
     "output_type": "execute_result"
    }
   ],
   "source": [
    "df.isnull().sum()"
   ]
  },
  {
   "cell_type": "code",
   "execution_count": 9,
   "id": "3eb59fcd-c635-4ac9-9c8c-532d5f78efe8",
   "metadata": {},
   "outputs": [],
   "source": [
    "x= df.text.values\n",
    "y=df.label_num.values"
   ]
  },
  {
   "cell_type": "code",
   "execution_count": 10,
   "id": "de4de32f-d755-497b-8993-a5a4718366db",
   "metadata": {},
   "outputs": [],
   "source": [
    "x_train, x_test, y_train, y_test = train_test_split(x, y, test_size = 0.2, random_state = 1)"
   ]
  },
  {
   "cell_type": "code",
   "execution_count": 11,
   "id": "2112b380-43eb-4550-a36d-98ca515a660b",
   "metadata": {},
   "outputs": [],
   "source": [
    "cv=CountVectorizer(stop_words='english',  strip_accents='unicode', max_features=1000)"
   ]
  },
  {
   "cell_type": "code",
   "execution_count": 12,
   "id": "31a1e142-7baa-464d-ba88-eaa6ac8c6f2b",
   "metadata": {},
   "outputs": [
    {
     "data": {
      "text/plain": [
       "array([[0, 0, 0, ..., 0, 0, 0],\n",
       "       [0, 0, 0, ..., 3, 0, 0],\n",
       "       [0, 0, 0, ..., 0, 0, 0],\n",
       "       ...,\n",
       "       [0, 0, 0, ..., 0, 0, 0],\n",
       "       [0, 0, 0, ..., 0, 0, 0],\n",
       "       [0, 1, 0, ..., 0, 0, 0]], dtype=int64)"
      ]
     },
     "execution_count": 12,
     "metadata": {},
     "output_type": "execute_result"
    }
   ],
   "source": [
    "x_train=cv.fit_transform(x_train)\n",
    "x_train.toarray()"
   ]
  },
  {
   "cell_type": "code",
   "execution_count": 13,
   "id": "6a4454c4-9465-462a-ab03-e262950c9342",
   "metadata": {},
   "outputs": [],
   "source": [
    "x_test=cv.fit_transform(x_test)"
   ]
  },
  {
   "cell_type": "code",
   "execution_count": 14,
   "id": "ceee8f44-46a8-470f-8c8f-f45dff2272ff",
   "metadata": {},
   "outputs": [
    {
     "data": {
      "text/plain": [
       "array([[0, 0, 0, ..., 0, 0, 0],\n",
       "       [0, 0, 0, ..., 0, 0, 0],\n",
       "       [0, 0, 0, ..., 0, 0, 0],\n",
       "       ...,\n",
       "       [0, 0, 0, ..., 0, 0, 0],\n",
       "       [0, 0, 0, ..., 0, 0, 0],\n",
       "       [0, 0, 0, ..., 0, 0, 0]], dtype=int64)"
      ]
     },
     "execution_count": 14,
     "metadata": {},
     "output_type": "execute_result"
    }
   ],
   "source": [
    "x_test.toarray()"
   ]
  },
  {
   "cell_type": "code",
   "execution_count": 15,
   "id": "9e7ef994-5bd4-4a60-a32f-70ab638d70f2",
   "metadata": {},
   "outputs": [],
   "source": [
    "model=MultinomialNB()"
   ]
  },
  {
   "cell_type": "code",
   "execution_count": 16,
   "id": "04104b31-86a6-4c58-aeac-34b8793f7421",
   "metadata": {},
   "outputs": [
    {
     "data": {
      "text/plain": [
       "MultinomialNB()"
      ]
     },
     "execution_count": 16,
     "metadata": {},
     "output_type": "execute_result"
    }
   ],
   "source": [
    "x_train, x_test, y_train, y_test = train_test_split(x, y, test_size = 0.2, random_state = 1)\n",
    "x_train = cv.fit_transform(x_train)\n",
    "x_test = cv.transform(x_test)\n",
    "model.fit(x_train,y_train)"
   ]
  },
  {
   "cell_type": "code",
   "execution_count": 17,
   "id": "37e32d4d-4974-4274-8855-7a6fca43b162",
   "metadata": {},
   "outputs": [],
   "source": [
    "y_pred = model.predict(x_test)"
   ]
  },
  {
   "cell_type": "code",
   "execution_count": 18,
   "id": "a3088069-05c2-45ed-b571-06da7845ec45",
   "metadata": {},
   "outputs": [
    {
     "data": {
      "text/plain": [
       "array([[656,  48],\n",
       "       [ 16, 279]], dtype=int64)"
      ]
     },
     "execution_count": 18,
     "metadata": {},
     "output_type": "execute_result"
    }
   ],
   "source": [
    "cm = confusion_matrix(y_true=y_test, y_pred=y_pred)\n",
    "cm"
   ]
  },
  {
   "cell_type": "code",
   "execution_count": 19,
   "id": "ed3cc450-8f06-49bc-9ea5-8f5f68e711a4",
   "metadata": {},
   "outputs": [
    {
     "data": {
      "text/plain": [
       "0.9351527290936404"
      ]
     },
     "execution_count": 19,
     "metadata": {},
     "output_type": "execute_result"
    }
   ],
   "source": [
    "score = model.score(x_train,y_train)\n",
    "score"
   ]
  },
  {
   "cell_type": "code",
   "execution_count": 20,
   "id": "ea32522e-6129-4987-8d51-11a85b79b6b6",
   "metadata": {},
   "outputs": [
    {
     "data": {
      "text/plain": [
       "Text(33.0, 0.5, 'True')"
      ]
     },
     "execution_count": 20,
     "metadata": {},
     "output_type": "execute_result"
    },
    {
     "data": {
      "image/png": "[encoded data removed]",
      "text/plain": [
       "<Figure size 432x288 with 2 Axes>"
      ]
     },
     "metadata": {
      "needs_background": "light"
     },
     "output_type": "display_data"
    }
   ],
   "source": [
    "ax = plt.subplot()\n",
    "sns.heatmap(cm, annot=True, ax = ax, fmt = 'd',cmap=\"icefire\")\n",
    "ax.set_xlabel('Predicted', fontsize=15)\n",
    "ax.set_ylabel('True', fontsize=15)"
   ]
  }
 ],
 "metadata": {
  "kernelspec": {
   "display_name": "Python 3 (ipykernel)",
   "language": "python",
   "name": "python3"
  },
  "language_info": {
   "codemirror_mode": {
    "name": "ipython",
    "version": 3
   },
   "file_extension": ".py",
   "mimetype": "text/x-python",
   "name": "python",
   "nbconvert_exporter": "python",
   "pygments_lexer": "ipython3",
   "version": "3.9.7"
  }
 },
 "nbformat": 4,
 "nbformat_minor": 5
}
